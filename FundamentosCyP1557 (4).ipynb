{
  "nbformat": 4,
  "nbformat_minor": 0,
  "metadata": {
    "colab": {
      "name": "FundamentosCyP1557.ipynb",
      "provenance": [],
      "collapsed_sections": []
    },
    "kernelspec": {
      "name": "python3",
      "display_name": "Python 3"
    },
    "language_info": {
      "name": "python"
    }
  },
  "cells": [
    {
      "cell_type": "markdown",
      "metadata": {
        "id": "u2CQymGj17fT"
      },
      "source": [
        "# 12/10/2021"
      ]
    },
    {
      "cell_type": "code",
      "metadata": {
        "colab": {
          "base_uri": "https://localhost:8080/"
        },
        "id": "xzMII7_cVeAu",
        "outputId": "7306f73e-55bf-45f4-c65d-e34094901a41"
      },
      "source": [
        "nombre = 'jose' # Tipo de dat String (cadena de caracteres)\n",
        "print( nombre)"
      ],
      "execution_count": null,
      "outputs": [
        {
          "output_type": "stream",
          "name": "stdout",
          "text": [
            "jose\n"
          ]
        }
      ]
    },
    {
      "cell_type": "markdown",
      "metadata": {
        "id": "FWKI6mggXMFx"
      },
      "source": [
        "# Tipos de datos en Python\n",
        "###Tipos simples\n",
        "- spr --> Sting cadena de caracteres\n",
        "- int --> Numeros enteros\n",
        "-float --> Numeros de notacon de punto flotante\n",
        "-complex --> Numeros complejos\n",
        "- bool --> Boleano (True or False)\n",
        "- byte --> 8 bits\n",
        "### Tipos Estructurados (Compuestos)\n",
        "- list --> Listas (Arreglos en otros leng)\n",
        "- dict --> Diccionarios\n",
        "- set y frozenset --> conjuntos\n",
        "- tuple --> Listas no mutables\n"
      ]
    },
    {
      "cell_type": "code",
      "metadata": {
        "id": "dwRAUBiG13BT"
      },
      "source": [
        ""
      ],
      "execution_count": null,
      "outputs": []
    },
    {
      "cell_type": "code",
      "metadata": {
        "id": "8bAwEEHCltzd",
        "colab": {
          "base_uri": "https://localhost:8080/"
        },
        "outputId": "2626cd85-bbf3-4294-f522-93e8b8252e82"
      },
      "source": [
        "#operador modulo\n",
        "numero = 21 \n",
        "print (numero /2)\n",
        "print (numero //2)\n",
        "#el operador modulo da como resultado el residuo de una dicision entera\n",
        "print( numero % 2)\n",
        "#el operador modulo es el signo de porciento \"%\"\n",
        "\n",
        "numero = 24\n",
        "print(\"Residuo de 24 / 5 es igual a\", numero % 5)\n",
        "\n",
        "#operadores relacionales (logicos)\n",
        "\n",
        "#para saber si un numero es par\n",
        "print(\"24 es par \", numero % 2 == 0)\n",
        "\n",
        "#diferencias\n",
        "\n",
        "print(\"24 es diferente a 23 \", numero != 23)\n",
        "print(\"24 es mayor que 23\", numero > 24)\n",
        "print(\"24 es menor a 23\", numero <23 )\n",
        "\n",
        "print(\"24 es mayor o igual a 24\", numero <= 24 )\n",
        "print(\"24 es menor o igual a 23\", numero <= 23 )\n",
        "\n",
        "print(\"El tipo de dato de la var numero es: \", type(numero))\n",
        "print(\"El tipo de dato de la var numero/2.0 es: \", type(numero/2.0))"
      ],
      "execution_count": null,
      "outputs": [
        {
          "output_type": "stream",
          "name": "stdout",
          "text": [
            "10.5\n",
            "10\n",
            "1\n",
            "Residuo de 24 / 5 es igual a 4\n",
            "24 es par  True\n",
            "24 es diferente a 23  True\n",
            "24 es mayor que 23 False\n",
            "24 es menor a 23 False\n",
            "24 es mayor o igual a 24 True\n",
            "24 es menor o igual a 23 False\n",
            "El tipo de dato de la var numero es:  <class 'int'>\n",
            "El tipo de dato de la var numero/2.0 es:  <class 'float'>\n"
          ]
        }
      ]
    },
    {
      "cell_type": "markdown",
      "metadata": {
        "id": "Zg-sfjsvpsnD"
      },
      "source": [
        "# Tipo de deato String (str) en Pyton\n",
        "\n",
        "- Temaneja como un arreglo (tipo de dato de concepto)\n",
        "- Sepuede acceder a los elementos de el string por medio del indice del caracter.\n",
        "- Mutable\n",
        "- Tiene metodos utiles(potentes)\n",
        "- Slicing"
      ]
    },
    {
      "cell_type": "code",
      "metadata": {
        "id": "Q7Bs5V01qTFk"
      },
      "source": [
        "nombre = 'Jose'\n",
        "carrera = \"ingenieria en computacion\"\n",
        "frase = \"\"\" El conocimiento\n",
        "me persigue,...\n",
        "pero\n",
        "yo soy mas rapido\n",
        "\"\"\"\n",
        "print(nombre)\n",
        "print(carrera)\n",
        "print(frase)\n",
        "\n",
        "#La funcion type de python te devuelve el tipo de dato de una variable\n",
        "print( type(nombre))"
      ],
      "execution_count": null,
      "outputs": []
    },
    {
      "cell_type": "markdown",
      "metadata": {
        "id": "hVU_YJiBpuk9"
      },
      "source": [
        "## Una clase (Class) es un tipo de dato compuesto"
      ]
    },
    {
      "cell_type": "code",
      "metadata": {
        "id": "uWkvj6XJrZTl"
      },
      "source": [
        "carrera = \"ingenieria en computacion\"\n",
        "print(carrera)\n",
        "print (carrera[2])"
      ],
      "execution_count": null,
      "outputs": []
    },
    {
      "cell_type": "markdown",
      "metadata": {
        "id": "XjC6ehpbrrUu"
      },
      "source": [
        "# A la sintacis escrita para elegir un elemento de un grupo de datos se le llama selector.\n",
        "En el caso de Strings y listas (lst) se usan los caracteres []\n",
        "\n",
        "1. En todos los lenguajes los arreglos inician en .\n",
        "2. En python no existe como tal el tipo de dato arreglo, el concepto es sustituido por las listas.\n",
        "3. Los strings se comportan como un arreglo en la maoria de los lenguajes.\n",
        "4. En python se acepta el indexado negativo,\n",
        "en otros lenguajes no"
      ]
    },
    {
      "cell_type": "code",
      "metadata": {
        "id": "_8l6N7WMsbtH"
      },
      "source": [
        "carrera = \"Ingenieria en computacion\"\n",
        "print(carrera)\n",
        "print (carrera[8])\n",
        "print (carrera [24])\n",
        "print(carrera [-21])\n",
        "print(carrera [-25])\n",
        "\n",
        "\n",
        "#adelantndo el tema del ciclo FOR\n",
        "\n",
        "for letra in carrera:\n",
        "  print(\"-->\", letra ,\"<---\")\n",
        "\n"
      ],
      "execution_count": null,
      "outputs": []
    },
    {
      "cell_type": "markdown",
      "metadata": {
        "id": "N5viWV6Uu9nK"
      },
      "source": [
        "# Slicing (rebanado ) de cadenas\n",
        "Permite el seleccionar subcadenas con el operador \n",
        "### [ inicio : stop : incremento ]\n",
        "el stop no se incluye, es por eso que debemos agregar una poscicion extra\n",
        "### Slicing y valores por defecto\n",
        "inicio por defecto siempre sera 0\n",
        "\n",
        "stop: tamano del arreglo (indexado positivo)\n",
        "0 (en un indexado positivo)\n",
        "\n",
        "Incremento: es 1 (indexado positivo)"
      ]
    },
    {
      "cell_type": "code",
      "metadata": {
        "id": "SiRbY44YvV0w"
      },
      "source": [
        "carrera = \"Ingenieria en computacion\"\n",
        "print(carrera[0:10:1])\n",
        "print(carrera[14:25:1])\n",
        "print(carrera[-11:-1:1])\n",
        "print(carrera[:10:])\n",
        "print(carrera[14:25:])\n",
        "print(carrera[-11::])"
      ],
      "execution_count": null,
      "outputs": []
    },
    {
      "cell_type": "markdown",
      "metadata": {
        "id": "Y6x9WDfT-7Qb"
      },
      "source": [
        "#14/10/2021"
      ]
    },
    {
      "cell_type": "markdown",
      "metadata": {
        "id": "_A-2CnFA0lSF"
      },
      "source": [
        "#String y sus metodos\n",
        "# Todos tipos de datos en python son \n",
        "## dir() y help() funciones para obtener ayuda del lenguaje \n",
        "- Dir muestra las funciones de un tipo de datos como resumen.\n",
        "- help mustra la misma ayuda pero a detalle \n",
        "\n",
        "Metodos que inician son __ son privados de uso interno de deberiamos usarlos.\n",
        "Todos los demas son para uso exterior (usuarios)"
      ]
    },
    {
      "cell_type": "code",
      "metadata": {
        "id": "hJRIRqRV1UX8"
      },
      "source": [
        "frutas = \" limon , fresa , manzana , aguacate \"\n",
        "nombre = \"jose\"\n",
        "print (frutas)\n",
        "\n",
        "print(nombre.capitalize() )\n",
        "print(nombre.upper() )\n",
        "print(frutas.replace('a' , '4').replace('e','3'))\n",
        "frutas = frutas.replace('a' , '4').replace('e','3')\n",
        "print (frutas)\n",
        "print (\".-.-.-.-.-.-.-.-.-.--.-.-.-.-.-.-.-\")\n",
        "frutas = \"limon , fresa , manzana , aguacate \" \n",
        "print (frutas.strip()) #elimina el espacio basura\n",
        "print ( )\n",
        "print (frutas.split(',')) #separa por espacios o dependiendo a lo que tu quieras\n",
        "#separar\n",
        "print(frutas.index('mon'))"
      ],
      "execution_count": null,
      "outputs": []
    },
    {
      "cell_type": "markdown",
      "metadata": {
        "id": "jiqWP3Fv6wu-"
      },
      "source": [
        "#21/10/2021"
      ]
    },
    {
      "cell_type": "markdown",
      "metadata": {
        "id": "5ocEPwkk8cY0"
      },
      "source": [
        "#String y caracteres de escape\n",
        "- \\\" --> \"\n",
        "- \\' --> ' \n",
        "- \\n --> Salto en linea (como la tecla enter) \n",
        "- \\t --> Tabulador espacios a la izquierda\n",
        "- \\uxxxx --> Caracteres unicode\n",
        "- \\Uxxxxxxxx --> unicode extendido\n"
      ]
    },
    {
      "cell_type": "code",
      "metadata": {
        "id": "gucBAVHm80xj"
      },
      "source": [
        "print (\"\\\"Jose\\\"\") \n",
        "nombre = \"\\\"jose\\\"\"\n",
        "print (nombre)\n",
        "carrera = ('Ingenieria \\n\\ten \\n\\tcomputacion')\n",
        "print (carrera)\n",
        "print(\"\\u0065\")\n",
        "print(\"\\u0444\")\n",
        "print(\"\\u0620\")\n",
        "print(\"\\U00010057\")\n",
        "print(\"\\U0001F604\")\n",
        "print(\"¯ \\ _ (ツ) _ / ¯\")"
      ],
      "execution_count": null,
      "outputs": []
    },
    {
      "cell_type": "markdown",
      "metadata": {
        "id": "qFOqSFyKyM0Q"
      },
      "source": [
        "#Funcion Ptint\n",
        "## Se emplea para desplegar informacion en la salida estandar, normalmente es el monitor\n",
        "### formas de usar Print\n",
        "- el argumento por defecto  de print (end)\n",
        "- format()\n",
        "- operador F\" \"\n"
      ]
    },
    {
      "cell_type": "code",
      "metadata": {
        "id": "MyLA_LsuzEMG",
        "colab": {
          "base_uri": "https://localhost:8080/"
        },
        "outputId": "d7dfcf95-2fa9-4d07-e7ca-d0507f320fec"
      },
      "source": [
        "nombre = \"Jose\"\n",
        "edad =18\n",
        "casado = False\n",
        "estatura= 1.67\n",
        "\"\"\"\n",
        "Nombre: Jose\n",
        "Edad: 18\n",
        "Esta casado: False\n",
        "Estatura en metros: 1.67\n",
        "\"\"\"\n",
        "# 1.- Con comas: concatena haciendo un casting con string y agreag un espacio\n",
        "print(nombre,edad,casado,estatura)\n",
        "print(\"Nombre\" + nombre + \"\\n\\tEdad: \"+ str(edad) + \"\\n\\tEsta casado: \"+ str(casado) + \"\\n\\tEstatura en Metros\" +str(estatura))\n",
        "\n",
        "#2.- con el simbolo de \"+\"\n",
        "# Concanenacion en crudo\n",
        "print(nombre +\" \" + str(edad)+ \" \" + str(casado)+ \" \" + str(estatura) )\n",
        "\n",
        "#3.- Dando formato a la salida con format\n",
        "print(\"\\n Con la funcion format()\")\n",
        "print(\"\\tNombre: {} \\n\\tEdad: {}\\n\\tEsta casado: {}\\n\\tEstatura en metros:{}\".format(nombre,edad,casado,estatura))\n",
        "\n",
        "#4.- Con el operador f \"\"\n",
        "print(\"\\nCon el operador f\\\"\\\"\")\n",
        "print(f\"\\tNombre: {nombre} \\n\\tEdad: {edad}\\n\\tEsta casado: {casado}\\n\\tEstatura en metros:{estatura}\".format(nombre,edad,casado,estatura))\n",
        "\n",
        "\n",
        "#Como manejar el argumento end\n",
        "print(\"\\nComo usar el argumento end=\")\n",
        "print(f\"Hola {nombre} \", end=\"\")\n",
        "print(\", Como estas?\", end=\"\\n\")\n"
      ],
      "execution_count": null,
      "outputs": [
        {
          "output_type": "stream",
          "name": "stdout",
          "text": [
            "Jose 18 False 1.67\n",
            "NombreJose\n",
            "\tEdad: 18\n",
            "\tEsta casado: False\n",
            "\tEstatura en Metros1.67\n",
            "Jose 18 False 1.67\n",
            "\n",
            " Con la funcion format()\n",
            "\tNombre: Jose \n",
            "\tEdad: 18\n",
            "\tEsta casado: False\n",
            "\tEstatura en metros:1.67\n",
            "\n",
            "Con el operador f\"\"\n",
            "\tNombre: Jose \n",
            "\tEdad: 18\n",
            "\tEsta casado: False\n",
            "\tEstatura en metros:1.67\n",
            "\n",
            "Como usar el argumento end=\n",
            "Hola Jose , Como estas?\n"
          ]
        }
      ]
    },
    {
      "cell_type": "markdown",
      "metadata": {
        "id": "GA9d9bueBksp"
      },
      "source": [
        "\n",
        "Para solicitar los datos del usuario se emplea la funcion input, la cual rgresa siempre un tipop de dato string."
      ]
    },
    {
      "cell_type": "code",
      "metadata": {
        "id": "EGMfYB2TAqBV",
        "colab": {
          "base_uri": "https://localhost:8080/"
        },
        "outputId": "5b7f3260-fe6c-414b-96ad-968631862e29"
      },
      "source": [
        "nombre= input (\"ingresa tu nombre: \")\n",
        "print (\"Tecleaste \", nombre)"
      ],
      "execution_count": null,
      "outputs": [
        {
          "output_type": "stream",
          "name": "stdout",
          "text": [
            "ingresa tu nombreAlexys\n",
            "Tecleaste Alexys\n"
          ]
        }
      ]
    },
    {
      "cell_type": "markdown",
      "metadata": {
        "id": "Hl0MAJ64SYsi"
      },
      "source": [
        "#04/11/2021"
      ]
    },
    {
      "cell_type": "markdown",
      "metadata": {
        "id": "UdwZYdqlCJX4"
      },
      "source": [
        "# Como capturar datos numericos?\n",
        "\n",
        "Para ello se hace una conversion entre tipos...\n",
        "casting... consiste en llamar el constructor de la clase deseada\n",
        "## Ejemplo convertir el string \"2\" en numero \n",
        "num = int(\"2\")"
      ]
    },
    {
      "cell_type": "code",
      "metadata": {
        "id": "F1S3COHwCf-c"
      },
      "source": [
        "entrada = input (\"Dame tu edad: \")\n",
        "edad = int (entrada)\n",
        "edad += 1  #edad = edad+1\n",
        "print(\"Tu edad es: \", edad)"
      ],
      "execution_count": null,
      "outputs": []
    },
    {
      "cell_type": "code",
      "metadata": {
        "id": "3Okw0lUaC8ze"
      },
      "source": [
        "# lo mismo pero on menos codigo\n",
        "\n",
        "edad = int (input(\"dame tu edad\"))\n",
        "print (\"Tu edad es: \", edad)"
      ],
      "execution_count": null,
      "outputs": []
    },
    {
      "cell_type": "code",
      "metadata": {
        "id": "YF4RWY0eDRgp"
      },
      "source": [
        "estatura = float (input (\"dame tu estatura: \"))\n",
        "print (\"Tu estatura es :\", estatura)"
      ],
      "execution_count": null,
      "outputs": []
    },
    {
      "cell_type": "code",
      "metadata": {
        "id": "meqbBZEUES_-"
      },
      "source": [
        "# inputs de booleans\n",
        "\n",
        "casado = bool (int(input(\"soltero (0) casado (1) \")))\n",
        "print (\"casado=\", casado)"
      ],
      "execution_count": null,
      "outputs": []
    },
    {
      "cell_type": "markdown",
      "metadata": {
        "id": "l_kXxU60F5lf"
      },
      "source": [
        "#Listas\n",
        "- tipo de datos que grupas variables o valores.\n",
        "= Estructua secuencial\n",
        "- Se declara de dos formas #\n",
        "      - usando [ ]\n",
        "      - usando list ()\n",
        "-Puede contener tipos de daatos diversos (En otros lenguajes de orogramacion eso no es posible de forma directa)\n",
        "- Los elementos internos se colocan con []\n",
        "- Soporta slicing\n",
        "- SON MUTABLES\n",
        "- Al ser una clase, contiene muchos metodos utiles"
      ]
    },
    {
      "cell_type": "code",
      "metadata": {
        "id": "aoCp-XunGof9"
      },
      "source": [
        "numeros = [10, 5, 2, 3, 1]\n",
        "print (numeros)\n",
        "\n",
        "numeros2 = list()\n",
        "numeros2.append(10)\n",
        "numeros2.append(5)\n",
        "numeros2.append(2)\n",
        "numeros2.append(3)\n",
        "numeros2.append(1)\n",
        "print (numeros2)\n",
        "numeros[2] = 20\n",
        "print (numeros)\n",
        "numeros[-1] = 33\n",
        "numeros.append(88)\n",
        "print (numeros)"
      ],
      "execution_count": null,
      "outputs": []
    },
    {
      "cell_type": "code",
      "metadata": {
        "id": "MFgXIMhEIrnG"
      },
      "source": [
        " # tipos de datos diversos\n",
        "\n",
        " cosas =[12, 2, True, \"Jose\", 1.57, [\"pera\",\"kiwi\", \"uva\"] ]\n",
        " print (cosas)\n",
        " print (cosas[1])\n",
        " print (cosas[4])\n",
        " print (cosas[5])\n",
        " print (cosas[5][1])\n",
        " print (cosas[3][1:3:])\n",
        " cosas[3]= cosas [3].upper()\n",
        " print(cosas)"
      ],
      "execution_count": null,
      "outputs": []
    },
    {
      "cell_type": "code",
      "metadata": {
        "id": "_6SazPo8L-aC"
      },
      "source": [
        "numeros = [1,2,3,4,5,6,7,8,9,10,11]\n",
        "print (numeros)\n",
        "#slicing\n",
        "# 1: del 4 al 8\n",
        "print (numeros[3:8])\n",
        "# 2: el 9 y 10\n",
        "print (numeros[-3:-1])\n",
        "# impreimir en orden inverso\n",
        "print(numeros[::-1])"
      ],
      "execution_count": null,
      "outputs": []
    },
    {
      "cell_type": "code",
      "metadata": {
        "colab": {
          "base_uri": "https://localhost:8080/"
        },
        "id": "yJMOsM-UPsjK",
        "outputId": "7f80b49c-4180-4ca1-85e3-7218e6e4d20c"
      },
      "source": [
        "#crear una lista con un generador\n",
        "numeros = [x for x in range(101)]\n",
        "print (numeros)"
      ],
      "execution_count": null,
      "outputs": [
        {
          "output_type": "stream",
          "name": "stdout",
          "text": [
            "[0.0, 0.005494505494505495, 0.01098901098901099, 0.016483516483516484, 0.02197802197802198, 0.027472527472527472, 0.03296703296703297, 0.038461538461538464, 0.04395604395604396, 0.04945054945054945, 0.054945054945054944, 0.06043956043956044, 0.06593406593406594, 0.07142857142857142, 0.07692307692307693, 0.08241758241758242, 0.08791208791208792, 0.09340659340659341, 0.0989010989010989, 0.1043956043956044, 0.10989010989010989, 0.11538461538461539, 0.12087912087912088, 0.12637362637362637, 0.13186813186813187, 0.13736263736263737, 0.14285714285714285, 0.14835164835164835, 0.15384615384615385, 0.15934065934065933, 0.16483516483516483, 0.17032967032967034, 0.17582417582417584, 0.1813186813186813, 0.18681318681318682, 0.19230769230769232, 0.1978021978021978, 0.2032967032967033, 0.2087912087912088, 0.21428571428571427, 0.21978021978021978, 0.22527472527472528, 0.23076923076923078, 0.23626373626373626, 0.24175824175824176, 0.24725274725274726, 0.25274725274725274, 0.25824175824175827, 0.26373626373626374, 0.2692307692307692, 0.27472527472527475, 0.2802197802197802, 0.2857142857142857, 0.29120879120879123, 0.2967032967032967, 0.3021978021978022, 0.3076923076923077, 0.3131868131868132, 0.31868131868131866, 0.3241758241758242, 0.32967032967032966, 0.33516483516483514, 0.34065934065934067, 0.34615384615384615, 0.3516483516483517, 0.35714285714285715, 0.3626373626373626, 0.36813186813186816, 0.37362637362637363, 0.3791208791208791, 0.38461538461538464, 0.3901098901098901, 0.3956043956043956, 0.4010989010989011, 0.4065934065934066, 0.41208791208791207, 0.4175824175824176, 0.4230769230769231, 0.42857142857142855, 0.4340659340659341, 0.43956043956043955, 0.44505494505494503, 0.45054945054945056, 0.45604395604395603, 0.46153846153846156, 0.46703296703296704, 0.4725274725274725, 0.47802197802197804, 0.4835164835164835, 0.489010989010989, 0.4945054945054945, 0.5, 0.5054945054945055, 0.510989010989011, 0.5164835164835165, 0.521978021978022, 0.5274725274725275, 0.532967032967033, 0.5384615384615384, 0.5439560439560439, 0.5494505494505495]\n"
          ]
        }
      ]
    },
    {
      "cell_type": "markdown",
      "metadata": {
        "id": "JEn6BPlWQYor"
      },
      "source": [
        "# Funcion range()\n",
        "\n",
        "Tiene los mismos componentes que slicing\n",
        "\n",
        "ini, stop, incremento\n",
        "\n",
        "range (1, 101, 1)"
      ]
    },
    {
      "cell_type": "code",
      "metadata": {
        "colab": {
          "base_uri": "https://localhost:8080/"
        },
        "id": "TZWboBUuQvvB",
        "outputId": "6fff2545-6dea-43fc-9378-212001252254"
      },
      "source": [
        "# Del 50 al 100\n",
        "numeros = [x for x in range(50, 1001, 100)]\n",
        "print (numeros)"
      ],
      "execution_count": null,
      "outputs": [
        {
          "output_type": "stream",
          "name": "stdout",
          "text": [
            "[50, 150, 250, 350, 450, 550, 650, 750, 850, 950]\n"
          ]
        }
      ]
    },
    {
      "cell_type": "markdown",
      "metadata": {
        "id": "JP0hg9BmRKLs"
      },
      "source": [
        "# Metodos disponibles de las listas"
      ]
    },
    {
      "cell_type": "code",
      "metadata": {
        "colab": {
          "base_uri": "https://localhost:8080/"
        },
        "id": "kc6RACWYRONm",
        "outputId": "82f30692-5e4f-474b-d79e-3c08f0c43e66"
      },
      "source": [
        "dir (list)"
      ],
      "execution_count": null,
      "outputs": [
        {
          "output_type": "execute_result",
          "data": {
            "text/plain": [
              "['__add__',\n",
              " '__class__',\n",
              " '__contains__',\n",
              " '__delattr__',\n",
              " '__delitem__',\n",
              " '__dir__',\n",
              " '__doc__',\n",
              " '__eq__',\n",
              " '__format__',\n",
              " '__ge__',\n",
              " '__getattribute__',\n",
              " '__getitem__',\n",
              " '__gt__',\n",
              " '__hash__',\n",
              " '__iadd__',\n",
              " '__imul__',\n",
              " '__init__',\n",
              " '__init_subclass__',\n",
              " '__iter__',\n",
              " '__le__',\n",
              " '__len__',\n",
              " '__lt__',\n",
              " '__mul__',\n",
              " '__ne__',\n",
              " '__new__',\n",
              " '__reduce__',\n",
              " '__reduce_ex__',\n",
              " '__repr__',\n",
              " '__reversed__',\n",
              " '__rmul__',\n",
              " '__setattr__',\n",
              " '__setitem__',\n",
              " '__sizeof__',\n",
              " '__str__',\n",
              " '__subclasshook__',\n",
              " 'append',\n",
              " 'clear',\n",
              " 'copy',\n",
              " 'count',\n",
              " 'extend',\n",
              " 'index',\n",
              " 'insert',\n",
              " 'pop',\n",
              " 'remove',\n",
              " 'reverse',\n",
              " 'sort']"
            ]
          },
          "metadata": {},
          "execution_count": 60
        }
      ]
    },
    {
      "cell_type": "code",
      "metadata": {
        "id": "R4PLoab7SiU4"
      },
      "source": [
        "numeros = [2,4,15,8,22,34,50]\n",
        "print (numeros)\n",
        "numeros.append(99)\n",
        "print (numeros)\n",
        "#numeros.clear()\n",
        "print (numeros)\n",
        "# alternativa para clear\n",
        "#numero = []\n",
        "print (numeros)\n",
        "\n",
        "\n",
        "frutas = [\"uvas\", \"kiwi\", \"manzana\"]\n",
        "copia = frutas\n",
        "print (frutas)\n",
        "print (copia)\n",
        "frutas.append(\"naranjas\")\n",
        "print (frutas)\n",
        "print (copia)\n",
        "\n",
        "colores = [\"rojo\",\"azul\", \"blanco\"]\n",
        "copia2 = colores.copy()\n",
        "print (colores)\n",
        "print (copia2)\n",
        "colores.append(\"verde\")\n",
        "print (colores)\n",
        "print (copia2)\n",
        "\n",
        "#count\n",
        "print(\"numeros de veces que aparece el numero 15: \", numeros.count(15))\n",
        "\n",
        "#extend\n",
        "nombres = [\"Jose\", \"Pedro\", \"Karina\"]\n",
        "otrosnombres = [\"Josue\", \"Diana\", \"Dalia\"]\n",
        "\n",
        "print (nombres)\n",
        "print (otrosnombres)\n",
        "nombres = nombres + otrosnombres\n",
        "print (nombres)\n",
        "print (otrosnombres)\n",
        "\n",
        "#lo mismo pero con extend\n",
        "otrosnombres.extend([\"Jesus\", \"Maria\", \"Jose\"])\n",
        "print (otrosnombres)\n",
        "\n",
        "#index\n",
        "print (\"Jesus esta en la posicion: \", otrosnombres.index(\"Jesus\")) # cuenta las posiciones\n",
        "\n",
        "#insert\n",
        "otrosnombres.insert(4, \"Espiritu santo\") #inserta algo y lo demas lo recorre a la derecha\n",
        "print (otrosnombres)\n",
        "\n",
        "#pop\n",
        "resultado = otrosnombres.pop() # almacena el ultimo resultado en resultado\n",
        "print(otrosnombres)\n",
        "print(resultado)"
      ],
      "execution_count": null,
      "outputs": []
    },
    {
      "cell_type": "markdown",
      "metadata": {
        "id": "ZwMnrRCy71MF"
      },
      "source": [
        "#09/11/2021"
      ]
    },
    {
      "cell_type": "markdown",
      "metadata": {
        "id": "55bhHtxgwR7a"
      },
      "source": [
        "#Tuplas\n",
        "\n",
        "###Caracteristicas de las tuplas:\n",
        "\n",
        "- Datos agrupados\n",
        "- Se declara usando#\n",
        "    - ()\n",
        "    - tuple()\n",
        "- Estructura secuencial, indexada a partir de 0\n",
        "- Pueden tener de 0 a n elementos \n",
        "- NO SON MUTABLES (No se pueden elimina y/o cambiar)\n",
        "- Son buenas para almacenar informacion de consulta\n",
        "- Pueden estar anidadas\n",
        "- Tienen metodos utiles"
      ]
    },
    {
      "cell_type": "code",
      "metadata": {
        "id": "L8fbpwt7xCId"
      },
      "source": [
        "info = (\"juan23\" , \"dios1234\", \"123.232.1.12\")\n",
        "print (info)\n",
        "print (info [1]) #acceder al elemento deseado, recuerda que inicia en el 0\n",
        "\n",
        "\n",
        "numeros = (0,1,2,3,4,5,6,7,8,9,10,11,12,13,14,15)\n",
        "print (numeros)\n",
        "print (numeros[5:11]) # slicing\n",
        "\n",
        "cosas = (info, numeros)\n",
        "print(cosas)\n",
        "print (cosas[1][5:11]) # imprimir la primera seccion con slicing\n",
        "print (cosas [0][2][4:7])"
      ],
      "execution_count": null,
      "outputs": []
    },
    {
      "cell_type": "markdown",
      "metadata": {
        "id": "t8jGkJif0o8s"
      },
      "source": [
        "## Metodos de las tuplas\n",
        "\n",
        "Son los mismos que las listas pero los que no involucren mutabilidad"
      ]
    },
    {
      "cell_type": "code",
      "metadata": {
        "colab": {
          "base_uri": "https://localhost:8080/"
        },
        "id": "6zwkbAaK0zAt",
        "outputId": "cf4543a3-0c8e-4585-db0f-343948835ba5"
      },
      "source": [
        "dir (tuple)"
      ],
      "execution_count": 12,
      "outputs": [
        {
          "output_type": "execute_result",
          "data": {
            "text/plain": [
              "['__add__',\n",
              " '__class__',\n",
              " '__contains__',\n",
              " '__delattr__',\n",
              " '__dir__',\n",
              " '__doc__',\n",
              " '__eq__',\n",
              " '__format__',\n",
              " '__ge__',\n",
              " '__getattribute__',\n",
              " '__getitem__',\n",
              " '__getnewargs__',\n",
              " '__gt__',\n",
              " '__hash__',\n",
              " '__init__',\n",
              " '__init_subclass__',\n",
              " '__iter__',\n",
              " '__le__',\n",
              " '__len__',\n",
              " '__lt__',\n",
              " '__mul__',\n",
              " '__ne__',\n",
              " '__new__',\n",
              " '__reduce__',\n",
              " '__reduce_ex__',\n",
              " '__repr__',\n",
              " '__rmul__',\n",
              " '__setattr__',\n",
              " '__sizeof__',\n",
              " '__str__',\n",
              " '__subclasshook__',\n",
              " 'count',\n",
              " 'index']"
            ]
          },
          "metadata": {},
          "execution_count": 12
        }
      ]
    },
    {
      "cell_type": "markdown",
      "metadata": {
        "id": "RWeHcTvi3TT0"
      },
      "source": [
        "#Diccionnarios\n",
        "### Caracteristicas de los diccionarios\n",
        "- Agrupan datos pero de forma no lineal.\n",
        "- Se declaran con:\n",
        "    - dict ()\n",
        "    - {}\n",
        "- Formado por pares del tipo llave:valos, donde:\n",
        "    - llave es de tipo string (siempre)\n",
        "    - valor puede ser de cualquier tipo de datos, incluyendo los diccionarios.\n",
        "- Se seleccionan con la llave de forma : [\"id_llave\"]\n",
        "- Son mutables\n",
        "- Son equivalentes al tipo de datos JSON del lenguaje JavaScript (JS)"
      ]
    },
    {
      "cell_type": "code",
      "metadata": {
        "id": "uJ2lsSPk46PM"
      },
      "source": [
        "alumno = {\"nombre\" : \"Jose\"}\n",
        "print (alumno)\n",
        "print (alumno [\"nombre\"])\n",
        "alumno = {\"nombre\" : \"Jose\" , \"nc\" : \"319227442\" , \"edad\" : 18}\n",
        "print(alumno)\n",
        "print (\"La edad del alumno es:\", alumno [\"edad\"])\n",
        "print (alumno [\"nombre\"].upper()) #nombre en mayusculas: upper()\n",
        "\n",
        "alumno2 = dict() # internamente es una {} vacia\n",
        "alumno2 [\"nombre\"] = \"jose\"\n",
        "print(alumno2)\n",
        "alumno2 [\"nc\"] = \"319227442\"\n",
        "alumno2 [\"edad\"] = \"18\"\n",
        "print(alumno2)\n",
        "alumno2[\"edad\"] = alumno2[\"edad\"]\n",
        "print(alumno2)"
      ],
      "execution_count": null,
      "outputs": []
    },
    {
      "cell_type": "code",
      "metadata": {
        "colab": {
          "base_uri": "https://localhost:8080/"
        },
        "id": "7aqu5Wmp-v9u",
        "outputId": "9f82d662-6e18-4411-a4c6-c34ac44c7cff"
      },
      "source": [
        "cliente = {\"id\": \"CT2121\" , \n",
        "            \"nombre\" : \"Jose Pedroza Rosales\" ,\n",
        "             \"telefono\": \"casa=5524675804 cel=248485612\" }\n",
        "\n",
        "print(cliente)\n",
        "cliente = { \"id\": \"CT2121\",\n",
        "            \"nombre\" : {\n",
        "                \"nombres\" : [\"Jose\", \"Eduardo\"],\n",
        "                \"paterno\" : \"Pedrosa\",\n",
        "                \"materno\" : \"Rosales\",\n",
        "            },\n",
        "           \"Telefonos\" : {\n",
        "               \"casa\" : \"55-6632-4234\",\n",
        "               \"trabajo\" : \"26-35-64-89\",\n",
        "               \"celular\" : \"044-55-23456\"\n",
        "           },\n",
        "           \"productos\" : {\n",
        "               \"ahorro\": {\"numero_cuenta\": \"7788\", \"ahorro\": 2500.5},\n",
        "               \"tarjetas\":[\n",
        "                            {\"tipo\":\"debito\", \"saldo\" : 10000.5},\n",
        "                            {\"tipo\":\"credito preferente\", \"limite\" : 250000.5},\n",
        "                            {\"tipo\":\"lite\", \"limite\" : 15000.5}\n",
        "               ]\n",
        "           },\n",
        "           \"direccion\": {\n",
        "               \"calle\": \"Av.central\",\n",
        "               \"numero\": 1245,\n",
        "               \"colonia\" : \"Impulsora\",\n",
        "               \"delegacion\" : \"neza\",\n",
        "               \"estado\" : {\n",
        "                            \"clave\" : 15,\n",
        "                           \"nombre_corto\" : \"Edomex\",\n",
        "                           \"nombre\": \"Estado de Mexico\"\n",
        "               }\n",
        "           }\n",
        "           }\n",
        "print(cliente[\"Telefonos\"][\"casa\"])\n",
        "print(cliente)\n",
        "print(cliente[\"productos\"][\"tarjetas\"][2][\"limite\"])\n"
      ],
      "execution_count": 48,
      "outputs": [
        {
          "output_type": "stream",
          "name": "stdout",
          "text": [
            "{'id': 'CT2121', 'nombre': 'Jose Pedroza Rosales', 'telefono': 'casa=5524675804 cel=248485612'}\n",
            "55-6632-4234\n",
            "{'id': 'CT2121', 'nombre': {'nombres': ['Jose', 'Eduardo'], 'paterno': 'Pedrosa', 'materno': 'Rosales'}, 'Telefonos': {'casa': '55-6632-4234', 'trabajo': '26-35-64-89', 'celular': '044-55-23456'}, 'productos': {'ahorro': {'numero_cuenta': '7788', 'ahorro': 2500.5}, 'tarjetas': [{'tipo': 'debito', 'saldo': 10000.5}, {'tipo': 'credito preferente', 'limite': 250000.5}, {'tipo': 'lite', 'limite': 15000.5}]}, 'direccion': {'calle': 'Av.central', 'numero': 1245, 'colonia': 'Impulsora', 'delegacion': 'neza', 'estado': {'clave': 15, 'nombre_corto': 'Edomex', 'nombre': 'Estado de Mexico'}}}\n",
            "15000.5\n"
          ]
        }
      ]
    }
  ]
}